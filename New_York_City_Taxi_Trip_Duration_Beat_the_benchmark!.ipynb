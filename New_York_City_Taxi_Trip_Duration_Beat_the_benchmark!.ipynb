{
  "nbformat": 4,
  "nbformat_minor": 0,
  "metadata": {
    "colab": {
      "name": "New York City Taxi Trip Duration_Beat the benchmark!.ipynb",
      "provenance": [],
      "authorship_tag": "ABX9TyNQ7JxAGaQcN5gv9ZZt7b6u",
      "include_colab_link": true
    },
    "kernelspec": {
      "name": "python3",
      "display_name": "Python 3"
    },
    "language_info": {
      "name": "python"
    }
  },
  "cells": [
    {
      "cell_type": "markdown",
      "metadata": {
        "id": "view-in-github",
        "colab_type": "text"
      },
      "source": [
        "<a href=\"https://colab.research.google.com/github/syh0397/Kaggle-Practice/blob/main/New_York_City_Taxi_Trip_Duration_Beat_the_benchmark!.ipynb\" target=\"_parent\"><img src=\"https://colab.research.google.com/assets/colab-badge.svg\" alt=\"Open In Colab\"/></a>"
      ]
    },
    {
      "cell_type": "code",
      "metadata": {
        "colab": {
          "base_uri": "https://localhost:8080/"
        },
        "id": "92SuWEpZ9AWu",
        "outputId": "20832847-f5fa-42e2-8faa-967d7880f96e"
      },
      "source": [
        "from google.colab import drive\n",
        "drive.mount('/content/drive')"
      ],
      "execution_count": 1,
      "outputs": [
        {
          "output_type": "stream",
          "text": [
            "Mounted at /content/drive\n"
          ],
          "name": "stdout"
        }
      ]
    },
    {
      "cell_type": "code",
      "metadata": {
        "colab": {
          "base_uri": "https://localhost:8080/"
        },
        "id": "3aCIHUZY87Fd",
        "outputId": "933df5a8-d451-4149-ff92-65e76c33304e"
      },
      "source": [
        "\n",
        "## libraries\n",
        "\n",
        "# 원래는 io 모듈이 없지만 추가해준다.\n",
        "import io\n",
        "import numpy as np\n",
        "import pandas as pd\n",
        "# xgb부스팅 모델을 사용한다.\n",
        "import xgboost as xgb\n",
        "# 라벨인코더를 사용\n",
        "from sklearn.preprocessing import LabelEncoder\n",
        "\n",
        "print('Read data...')\n",
        "## read data\n",
        "# 데이터를 읽어오는데 캐글에서 데이터를 다운받고 구글드라이브에 넣은 데이터를 사용한다. \n",
        "train = pd.read_csv('/content/drive/MyDrive/캐글데이터/New York City Taxi Trip Duration_train.csv')\n",
        "test = pd.read_csv('/content/drive/MyDrive/캐글데이터/New York City Taxi Trip Duration_test.csv')\n",
        "\n",
        "## dates\n",
        "# 픽업하는 시간을 새로운 열로 맞춰준다.(타입을 변경)\n",
        "train['pickup_datetime'] = pd.to_datetime(train['pickup_datetime'])\n",
        "test['pickup_datetime'] = pd.to_datetime(test['pickup_datetime'])\n",
        "\n",
        "## transform character to numeric\n",
        "# char 형태에서 numeric 형태로 바꾸어 준다. \n",
        "\n",
        "le = LabelEncoder()\n",
        "le.fit(train['store_and_fwd_flag'])\n",
        "train['store_and_fwd_flag'] = le.transform(train['store_and_fwd_flag'])\n",
        "test['store_and_fwd_flag'] = le.transform(test['store_and_fwd_flag'])\n",
        "\n",
        "###############################################################################\n",
        "## New features\n",
        "###############################################################################\n",
        "# 새로운 피쳐를 만든다. 특성 공학을 진행함\n",
        "print('Create features...')\n",
        "#### date features\n",
        "train['month'] = train['pickup_datetime'].dt.month\n",
        "train['day'] = train['pickup_datetime'].dt.day\n",
        "train['weekday'] = train['pickup_datetime'].dt.weekday\n",
        "train['hour'] = train['pickup_datetime'].dt.hour\n",
        "train['minute'] = train['pickup_datetime'].dt.minute\n",
        "\n",
        "test['month'] = test['pickup_datetime'].dt.month\n",
        "test['day'] = test['pickup_datetime'].dt.day\n",
        "test['weekday'] = test['pickup_datetime'].dt.weekday\n",
        "test['hour'] = test['pickup_datetime'].dt.hour\n",
        "test['minute'] = test['pickup_datetime'].dt.minute\n",
        "\n",
        "#### distance features\n",
        "train['dist_long'] = train['pickup_longitude'] - train['dropoff_longitude']\n",
        "test['dist_long'] = test['pickup_longitude'] - test['dropoff_longitude']\n",
        "\n",
        "train['dist_lat'] = train['pickup_latitude'] - train['dropoff_latitude']\n",
        "test['dist_lat'] = test['pickup_latitude'] - test['dropoff_latitude']\n",
        "\n",
        "train['dist'] = np.sqrt(np.square(train['dist_long']) + np.square(train['dist_lat']))\n",
        "test['dist'] = np.sqrt(np.square(test['dist_long']) + np.square(test['dist_lat']))\n",
        "\n",
        "#### spatial features: count and speed\n",
        "# 카운트랑 스피드 열 만드는데 소숫점 3자리 \n",
        "train['pickup_longitude_bin'] = np.round(train['pickup_longitude'], 2)\n",
        "train['pickup_latitude_bin'] = np.round(train['pickup_latitude'], 2)\n",
        "train['dropoff_longitude_bin'] = np.round(train['dropoff_longitude'], 2)\n",
        "train['dropoff_latitude_bin'] = np.round(train['dropoff_latitude'], 2)\n",
        "# 테스트에도 ^^ \n",
        "test['pickup_longitude_bin'] = np.round(test['pickup_longitude'], 2)\n",
        "test['pickup_latitude_bin'] = np.round(test['pickup_latitude'], 2)\n",
        "test['dropoff_longitude_bin'] = np.round(test['dropoff_longitude'], 2)\n",
        "test['dropoff_latitude_bin'] = np.round(test['dropoff_latitude'], 2)\n",
        "\n",
        "## count features\n",
        "# 합쳐\n",
        "a = pd.concat([train,test]).groupby(['pickup_longitude_bin', 'pickup_latitude_bin']).size().reset_index()\n",
        "b = pd.concat([train,test]).groupby(['dropoff_longitude_bin', 'dropoff_latitude_bin']).size().reset_index()\n",
        "\n",
        "train = pd.merge(train, a, on = ['pickup_longitude_bin', 'pickup_latitude_bin'], how = 'left')\n",
        "test = pd.merge(test, a, on = ['pickup_longitude_bin', 'pickup_latitude_bin'], how = 'left')\n",
        "\n",
        "train = pd.merge(train, b, on = ['dropoff_longitude_bin', 'dropoff_latitude_bin'], how = 'left')\n",
        "test = pd.merge(test, b, on = ['dropoff_longitude_bin', 'dropoff_latitude_bin'], how = 'left')\n",
        "\n",
        "## speed features\n",
        "train['speed'] = 100000*train['dist'] / train['trip_duration']\n",
        "\n",
        "a = train[['speed', 'pickup_longitude_bin', 'pickup_latitude_bin']].groupby(['pickup_longitude_bin', 'pickup_latitude_bin']).mean().reset_index()\n",
        "a = a.rename(columns = {'speed': 'ave_speed'})\n",
        "b = train[['speed', 'dropoff_longitude_bin', 'dropoff_latitude_bin']].groupby(['dropoff_longitude_bin', 'dropoff_latitude_bin']).mean().reset_index()\n",
        "b = b.rename(columns = {'speed': 'ave_speed'})\n",
        "\n",
        "train = pd.merge(train, a, on = ['pickup_longitude_bin', 'pickup_latitude_bin'], how = 'left')\n",
        "test = pd.merge(test, a, on = ['pickup_longitude_bin', 'pickup_latitude_bin'], how = 'left')\n",
        "\n",
        "train = pd.merge(train, b, on = ['dropoff_longitude_bin', 'dropoff_latitude_bin'], how = 'left')\n",
        "test = pd.merge(test, b, on = ['dropoff_longitude_bin', 'dropoff_latitude_bin'], how = 'left')\n",
        "\n",
        "## drop bins\n",
        "train = train.drop(['speed', 'pickup_longitude_bin', 'pickup_latitude_bin', 'dropoff_longitude_bin', 'dropoff_latitude_bin'], axis = 1)\n",
        "test = test.drop(['pickup_longitude_bin', 'pickup_latitude_bin', 'dropoff_longitude_bin', 'dropoff_latitude_bin'], axis = 1)\n",
        "\n",
        "#### weather data\n",
        "weather = pd.read_csv('/content/drive/MyDrive/캐글데이터/KNYC_Metars.csv')\n",
        "weather['Time'] = pd.to_datetime(weather['Time'])\n",
        "weather['year'] = weather['Time'].dt.year\n",
        "weather['month'] = weather['Time'].dt.month\n",
        "weather['day'] = weather['Time'].dt.day\n",
        "weather['hour'] = weather['Time'].dt.hour\n",
        "weather = weather[weather['year'] == 2016]\n",
        "\n",
        "train = pd.merge(train, weather[['Temp.', 'month', 'day', 'hour']], on = ['month', 'day', 'hour'], how = 'left')\n",
        "test = pd.merge(test, weather[['Temp.', 'month', 'day', 'hour']], on = ['month', 'day', 'hour'], how = 'left')\n",
        "\n",
        "## train/test features, y, id\n",
        "xtrain = train.drop(['id', 'pickup_datetime', 'dropoff_datetime', 'trip_duration'], axis = 1)\n",
        "xtest = test.drop(['id', 'pickup_datetime', ], axis = 1)\n",
        "ytrain = train['trip_duration'].values\n",
        "id_train = train['id'].values\n",
        "id_test = test['id'].values\n",
        "del(train, test)\n",
        "\n",
        "## xgb parameters\n",
        "params = {\n",
        "    'booster':            'gbtree',\n",
        "    'objective':          'reg:linear',\n",
        "    'learning_rate':      0.1,\n",
        "    'max_depth':          14,\n",
        "    'subsample':          0.8,\n",
        "    'colsample_bytree':   0.7,\n",
        "    'colsample_bylevel':  0.7,\n",
        "    'silent':             1\n",
        "}\n",
        "\n",
        "## number of rounds\n",
        "nrounds = 200\n",
        "\n",
        "## train model\n",
        "print('Train model...')\n",
        "dtrain = xgb.DMatrix(xtrain, np.log(ytrain+1))\n",
        "gbm = xgb.train(params,\n",
        "                dtrain,\n",
        "                num_boost_round = nrounds)\n",
        "\n",
        "## test predictions\n",
        "pred_test = np.exp(gbm.predict(xgb.DMatrix(xtest))) - 1\n",
        "\n",
        "## create submission\n",
        "df = pd.DataFrame({'id': id_test, 'trip_duration': pred_test}) \n",
        "df = df.set_index('id')\n",
        "df.to_csv('sub_bench.csv', index = True)\n",
        "\n"
      ],
      "execution_count": 4,
      "outputs": [
        {
          "output_type": "stream",
          "text": [
            "Read data...\n",
            "Create features...\n",
            "Train model...\n"
          ],
          "name": "stdout"
        }
      ]
    },
    {
      "cell_type": "code",
      "metadata": {
        "id": "D24buf4Q9ZQ_"
      },
      "source": [
        ""
      ],
      "execution_count": null,
      "outputs": []
    }
  ]
}